{
  "nbformat": 4,
  "nbformat_minor": 0,
  "metadata": {
    "kernelspec": {
      "display_name": "Python 3",
      "language": "python",
      "name": "python3"
    },
    "language_info": {
      "codemirror_mode": {
        "name": "ipython",
        "version": 3
      },
      "file_extension": ".py",
      "mimetype": "text/x-python",
      "name": "python",
      "nbconvert_exporter": "python",
      "pygments_lexer": "ipython3",
      "version": "3.7.1"
    },
    "colab": {
      "name": "Classic methods.ipynb",
      "provenance": []
    }
  },
  "cells": [
    {
      "cell_type": "code",
      "metadata": {
        "id": "CGBn1N88ZKtU",
        "outputId": "78f1586a-98e0-4c12-d42f-a5e7f3a4f27c",
        "colab": {
          "base_uri": "https://localhost:8080/",
          "height": 33
        }
      },
      "source": [
        "try:\n",
        "  # %tensorflow_version only exists in Colab.\n",
        "  %tensorflow_version 1.x\n",
        "except Exception:\n",
        "  pass\n",
        "\n",
        "import tensorflow as tf\n",
        "\n",
        "import numpy as np\n",
        "\n",
        "tf.compat.v1.logging.set_verbosity(tf.logging.ERROR)"
      ],
      "execution_count": null,
      "outputs": [
        {
          "output_type": "stream",
          "text": [
            "TensorFlow 1.x selected.\n"
          ],
          "name": "stdout"
        }
      ]
    },
    {
      "cell_type": "code",
      "metadata": {
        "id": "UU6wXfIukmET",
        "outputId": "ae83d798-73b4-4ba9-be85-d1f5aeb0093b",
        "colab": {
          "base_uri": "https://localhost:8080/",
          "height": 267
        }
      },
      "source": [
        "!pip install git+https://github.com/Jakondak/differential-privacy-library.git"
      ],
      "execution_count": null,
      "outputs": [
        {
          "output_type": "stream",
          "text": [
            "Collecting git+https://github.com/Jakondak/differential-privacy-library.git\n",
            "  Cloning https://github.com/Jakondak/differential-privacy-library.git to /tmp/pip-req-build-zs5c57kq\n",
            "  Running command git clone -q https://github.com/Jakondak/differential-privacy-library.git /tmp/pip-req-build-zs5c57kq\n",
            "Requirement already satisfied: numpy>=1.15.0 in /usr/local/lib/python3.6/dist-packages (from diffprivlib==0.2.0) (1.18.4)\n",
            "Requirement already satisfied: setuptools>=39.0.1 in /usr/local/lib/python3.6/dist-packages (from diffprivlib==0.2.0) (46.1.3)\n",
            "Requirement already satisfied: scikit-learn>=0.20.3 in /usr/local/lib/python3.6/dist-packages (from diffprivlib==0.2.0) (0.22.2.post1)\n",
            "Requirement already satisfied: scipy>=1.2.1 in /usr/local/lib/python3.6/dist-packages (from diffprivlib==0.2.0) (1.4.1)\n",
            "Requirement already satisfied: joblib>=0.13.2 in /usr/local/lib/python3.6/dist-packages (from diffprivlib==0.2.0) (0.14.1)\n",
            "Building wheels for collected packages: diffprivlib\n",
            "  Building wheel for diffprivlib (setup.py) ... \u001b[?25l\u001b[?25hdone\n",
            "  Created wheel for diffprivlib: filename=diffprivlib-0.2.0-cp36-none-any.whl size=113324 sha256=b6c4ee897c3cc288678ec4bad972d6d0948c5d9271be39dd98db81fa88877c39\n",
            "  Stored in directory: /tmp/pip-ephem-wheel-cache-wmpdkq2i/wheels/80/34/51/2143cfa48406e75a606ad27411f5dc9429a5c023627e395c1a\n",
            "Successfully built diffprivlib\n",
            "Installing collected packages: diffprivlib\n",
            "Successfully installed diffprivlib-0.2.0\n"
          ],
          "name": "stdout"
        }
      ]
    },
    {
      "cell_type": "code",
      "metadata": {
        "id": "4wbQsSzRZnc2"
      },
      "source": [
        "import pandas as pd\n",
        "import numpy as np\n",
        "import time\n",
        "import scipy\n",
        "import diffprivlib.models as models\n",
        "from sklearn.metrics import accuracy_score\n",
        "import numpy as np\n",
        "import matplotlib.pyplot as plt\n",
        "import warnings\n",
        "warnings.filterwarnings('ignore')\n",
        "import seaborn as sns; sns.set()\n",
        "sns.set(rc={'figure.figsize':(11.7,8.27)})"
      ],
      "execution_count": null,
      "outputs": []
    },
    {
      "cell_type": "code",
      "metadata": {
        "id": "jVW3QoafZ7f_",
        "outputId": "7b8c6dd5-5544-4b56-f0c2-b5575c77ebe2",
        "colab": {
          "base_uri": "https://localhost:8080/",
          "height": 50
        }
      },
      "source": [
        "train, test = tf.keras.datasets.cifar10.load_data()"
      ],
      "execution_count": null,
      "outputs": [
        {
          "output_type": "stream",
          "text": [
            "Downloading data from https://www.cs.toronto.edu/~kriz/cifar-10-python.tar.gz\n",
            "170500096/170498071 [==============================] - 4s 0us/step\n"
          ],
          "name": "stdout"
        }
      ]
    },
    {
      "cell_type": "code",
      "metadata": {
        "id": "-s9EM1X5aG4L"
      },
      "source": [
        "X_train_cf, y_train_cf = train\n",
        "X_test_cf, y_test_cf = test"
      ],
      "execution_count": null,
      "outputs": []
    },
    {
      "cell_type": "markdown",
      "metadata": {
        "id": "KcGEa4LkZKtw"
      },
      "source": [
        "### GaussianNB by IBM"
      ]
    },
    {
      "cell_type": "code",
      "metadata": {
        "id": "jsZCeOo5ZKtx"
      },
      "source": [
        "from sklearn import datasets\n",
        "from sklearn.model_selection import train_test_split\n",
        "\n",
        "X_train = X_train_cf.reshape(X_train_cf.shape[0], 3072, )\n",
        "X_test = X_test_cf.reshape(X_test_cf.shape[0], 3072, )\n",
        "y_train = y_train_cf\n",
        "y_test = y_test_cf"
      ],
      "execution_count": null,
      "outputs": []
    },
    {
      "cell_type": "code",
      "metadata": {
        "id": "32nMbw3SZKuL"
      },
      "source": [
        "epsilons = np.logspace(-2, 2, 11)\n",
        "deltas = np.linspace(0,1,11)\n",
        "accuracy_df_gaus = list()\n",
        "epsilons_df_gaus = list()\n",
        "delta_df_gaus = list()\n",
        "\n",
        "for epsilon in epsilons:\n",
        "    for delta in deltas:\n",
        "        clf = models.GaussianNB(epsilon=epsilon, delta=delta)\n",
        "        clf.fit(X_train, y_train)\n",
        "    \n",
        "        accuracy_df_gaus.append(accuracy_score(y_test, clf.predict(X_test)))\n",
        "        epsilons_df_gaus.append(round(epsilon, 2))\n",
        "        delta_df_gaus.append(round(delta, 2))"
      ],
      "execution_count": null,
      "outputs": []
    },
    {
      "cell_type": "code",
      "metadata": {
        "id": "zVEjGhnuZKuT",
        "outputId": "ce223e32-f178-4e1c-dd59-3ea935f24799",
        "colab": {
          "base_uri": "https://localhost:8080/",
          "height": 195
        }
      },
      "source": [
        "gausian_df = pd.DataFrame(data=np.column_stack([accuracy_df_gaus, epsilons_df_gaus, delta_df_gaus]), columns=['accuracy', 'epsilon', 'delta'])\n",
        "gausian_df = gausian_df.pivot('epsilon', 'delta', 'accuracy')\n",
        "ax = sns.heatmap(gausian_df, cbar_kws={'label': 'accuracy'})"
      ],
      "execution_count": null,
      "outputs": [
        {
          "output_type": "error",
          "ename": "NameError",
          "evalue": "ignored",
          "traceback": [
            "\u001b[0;31m---------------------------------------------------------------------------\u001b[0m",
            "\u001b[0;31mNameError\u001b[0m                                 Traceback (most recent call last)",
            "\u001b[0;32m<ipython-input-19-272814b6bbe2>\u001b[0m in \u001b[0;36m<module>\u001b[0;34m()\u001b[0m\n\u001b[0;32m----> 1\u001b[0;31m \u001b[0mgausian_df\u001b[0m \u001b[0;34m=\u001b[0m \u001b[0mpd\u001b[0m\u001b[0;34m.\u001b[0m\u001b[0mDataFrame\u001b[0m\u001b[0;34m(\u001b[0m\u001b[0mdata\u001b[0m\u001b[0;34m=\u001b[0m\u001b[0mnp\u001b[0m\u001b[0;34m.\u001b[0m\u001b[0mcolumn_stack\u001b[0m\u001b[0;34m(\u001b[0m\u001b[0;34m[\u001b[0m\u001b[0maccuracy_df_gaus\u001b[0m\u001b[0;34m,\u001b[0m \u001b[0mepsilons_df_gaus\u001b[0m\u001b[0;34m,\u001b[0m \u001b[0mdelta_df_gaus\u001b[0m\u001b[0;34m]\u001b[0m\u001b[0;34m)\u001b[0m\u001b[0;34m,\u001b[0m \u001b[0mcolumns\u001b[0m\u001b[0;34m=\u001b[0m\u001b[0;34m[\u001b[0m\u001b[0;34m'accuracy'\u001b[0m\u001b[0;34m,\u001b[0m \u001b[0;34m'epsilon'\u001b[0m\u001b[0;34m,\u001b[0m \u001b[0;34m'delta'\u001b[0m\u001b[0;34m]\u001b[0m\u001b[0;34m)\u001b[0m\u001b[0;34m\u001b[0m\u001b[0;34m\u001b[0m\u001b[0m\n\u001b[0m\u001b[1;32m      2\u001b[0m \u001b[0mgausian_df\u001b[0m \u001b[0;34m=\u001b[0m \u001b[0mgausian_df\u001b[0m\u001b[0;34m.\u001b[0m\u001b[0mpivot\u001b[0m\u001b[0;34m(\u001b[0m\u001b[0;34m'epsilon'\u001b[0m\u001b[0;34m,\u001b[0m \u001b[0;34m'delta'\u001b[0m\u001b[0;34m,\u001b[0m \u001b[0;34m'accuracy'\u001b[0m\u001b[0;34m)\u001b[0m\u001b[0;34m\u001b[0m\u001b[0;34m\u001b[0m\u001b[0m\n\u001b[1;32m      3\u001b[0m \u001b[0max\u001b[0m \u001b[0;34m=\u001b[0m \u001b[0msns\u001b[0m\u001b[0;34m.\u001b[0m\u001b[0mheatmap\u001b[0m\u001b[0;34m(\u001b[0m\u001b[0mgausian_df\u001b[0m\u001b[0;34m,\u001b[0m \u001b[0mcbar_kws\u001b[0m\u001b[0;34m=\u001b[0m\u001b[0;34m{\u001b[0m\u001b[0;34m'label'\u001b[0m\u001b[0;34m:\u001b[0m \u001b[0;34m'accuracy'\u001b[0m\u001b[0;34m}\u001b[0m\u001b[0;34m)\u001b[0m\u001b[0;34m\u001b[0m\u001b[0;34m\u001b[0m\u001b[0m\n",
            "\u001b[0;31mNameError\u001b[0m: name 'accuracy_df_gaus' is not defined"
          ]
        }
      ]
    },
    {
      "cell_type": "markdown",
      "metadata": {
        "id": "mDdW4SfsZKua"
      },
      "source": [
        "### Linear regression by IBM"
      ]
    },
    {
      "cell_type": "code",
      "metadata": {
        "id": "gwNO23b3ZKuc",
        "outputId": "b9a10473-1a7e-46f6-a279-d70ce4b50f89",
        "colab": {
          "base_uri": "https://localhost:8080/",
          "height": 33
        }
      },
      "source": [
        "from sklearn.linear_model import LinearRegression as sk_LinearRegression\n",
        "from sklearn.metrics import r2_score\n",
        "\n",
        "regr = sk_LinearRegression()\n",
        "regr.fit(X_train, y_train)\n",
        "baseline = r2_score(y_test, regr.predict(X_test))\n",
        "print(\"Non-private baseline: %.2f\" % baseline)"
      ],
      "execution_count": null,
      "outputs": [
        {
          "output_type": "stream",
          "text": [
            "Non-private baseline: 0.03\n"
          ],
          "name": "stdout"
        }
      ]
    },
    {
      "cell_type": "code",
      "metadata": {
        "id": "6RxvUO8WZKus",
        "outputId": "53a146c2-3d13-4c68-e4e2-678c37f83226",
        "colab": {
          "base_uri": "https://localhost:8080/",
          "height": 50
        }
      },
      "source": [
        "%%time\n",
        "epsilons = np.logspace(-2, 2, 11)\n",
        "deltas = np.linspace(0,1,11)\n",
        "\n",
        "accuracy_df_lin_reg = list()\n",
        "epsilons_df_lin_reg = list()\n",
        "delta_df_lin_reg = list()\n",
        "\n",
        "for epsilon in epsilons:\n",
        "    for delta in deltas:\n",
        "        clf = models.LinearRegression(epsilon=epsilon, delta=delta)\n",
        "        clf.fit(X_train, y_train)\n",
        "    \n",
        "        accuracy_df_lin_reg.append(accuracy_score(y_test, np.round(clf.predict(X_test), decimals=0)))\n",
        "        epsilons_df_lin_reg.append(round(epsilon, 2))\n",
        "        delta_df_lin_reg.append(round(delta, 2))"
      ],
      "execution_count": null,
      "outputs": [
        {
          "output_type": "stream",
          "text": [
            "CPU times: user 1h 53min 34s, sys: 3min 29s, total: 1h 57min 4s\n",
            "Wall time: 1h 1min 50s\n"
          ],
          "name": "stdout"
        }
      ]
    },
    {
      "cell_type": "code",
      "metadata": {
        "id": "ugZjZig_ZKvB",
        "outputId": "063be3bb-2d7c-4751-84d5-1f5276101d8a",
        "colab": {
          "base_uri": "https://localhost:8080/",
          "height": 517
        }
      },
      "source": [
        "lin_reg_df = pd.DataFrame(data=np.column_stack([accuracy_df_lin_reg, epsilons_df_lin_reg, delta_df_lin_reg]), columns=['accuracy', 'epsilon', 'delta'])\n",
        "lin_reg_df = lin_reg_df.pivot('epsilon', 'delta', 'accuracy')\n",
        "ax = sns.heatmap(lin_reg_df, cbar_kws={'label': 'accuracy'})"
      ],
      "execution_count": null,
      "outputs": [
        {
          "output_type": "display_data",
          "data": {
            "image/png": "[encoded data removed]",
            "text/plain": [
              "<Figure size 842.4x595.44 with 2 Axes>"
            ]
          },
          "metadata": {
            "tags": []
          }
        }
      ]
    },
    {
      "cell_type": "markdown",
      "metadata": {
        "id": "41z5O7nvZKve"
      },
      "source": [
        "### Logistic regression by IBM"
      ]
    },
    {
      "cell_type": "code",
      "metadata": {
        "id": "H9rh9YEcZKvg"
      },
      "source": [
        "#Scaler\n",
        "\n",
        "from sklearn.pipeline import Pipeline\n",
        "from sklearn.preprocessing import MinMaxScaler\n",
        "from sklearn.linear_model import LogisticRegression\n",
        "import diffprivlib.models as dp\n",
        "\n",
        "lr = Pipeline([\n",
        "    ('scaler', MinMaxScaler()),\n",
        "    ('clf', LogisticRegression(solver=\"lbfgs\"))\n",
        "])"
      ],
      "execution_count": null,
      "outputs": []
    },
    {
      "cell_type": "markdown",
      "metadata": {
        "id": "Yo4yK4i-ZKvs"
      },
      "source": [
        "#### LR wo DP"
      ]
    },
    {
      "cell_type": "code",
      "metadata": {
        "id": "WDJyT4TvZKvt",
        "outputId": "f5ae7fff-a39c-4c42-df21-354db4a10a53",
        "colab": {
          "base_uri": "https://localhost:8080/",
          "height": 200
        }
      },
      "source": [
        "lr.fit(X_train, y_train)\n"
      ],
      "execution_count": null,
      "outputs": [
        {
          "output_type": "execute_result",
          "data": {
            "text/plain": [
              "Pipeline(memory=None,\n",
              "         steps=[('scaler', MinMaxScaler(copy=True, feature_range=(0, 1))),\n",
              "                ('clf',\n",
              "                 LogisticRegression(C=1.0, class_weight=None, dual=False,\n",
              "                                    fit_intercept=True, intercept_scaling=1,\n",
              "                                    l1_ratio=None, max_iter=100,\n",
              "                                    multi_class='auto', n_jobs=None,\n",
              "                                    penalty='l2', random_state=None,\n",
              "                                    solver='lbfgs', tol=0.0001, verbose=0,\n",
              "                                    warm_start=False))],\n",
              "         verbose=False)"
            ]
          },
          "metadata": {
            "tags": []
          },
          "execution_count": 31
        }
      ]
    },
    {
      "cell_type": "code",
      "metadata": {
        "id": "lDv7NQT2ZKv4",
        "outputId": "f03588c7-488a-4b7f-8c6c-3aaed8903338",
        "colab": {
          "base_uri": "https://localhost:8080/",
          "height": 33
        }
      },
      "source": [
        "from sklearn.metrics import accuracy_score\n",
        "\n",
        "print(\"Non-private test accuracy: %.2f%%\" % (accuracy_score(y_test, lr.predict(X_test)) * 100))"
      ],
      "execution_count": null,
      "outputs": [
        {
          "output_type": "stream",
          "text": [
            "Non-private test accuracy: 40.63%\n"
          ],
          "name": "stdout"
        }
      ]
    },
    {
      "cell_type": "markdown",
      "metadata": {
        "id": "yCz5YlB5ZKwN"
      },
      "source": [
        "#### LR with DP"
      ]
    },
    {
      "cell_type": "code",
      "metadata": {
        "id": "lgX8oX6vZKwP",
        "outputId": "75e50163-3062-4358-bcd8-2fa5492b2bd4",
        "colab": {
          "base_uri": "https://localhost:8080/",
          "height": 150
        }
      },
      "source": [
        "dp_lr = Pipeline([\n",
        "    ('scaler', MinMaxScaler()),\n",
        "    ('clf', dp.LogisticRegression())\n",
        "])\n",
        "\n",
        "dp_lr.fit(X_train, y_train)"
      ],
      "execution_count": null,
      "outputs": [
        {
          "output_type": "execute_result",
          "data": {
            "text/plain": [
              "Pipeline(memory=None,\n",
              "         steps=[('scaler', MinMaxScaler(copy=True, feature_range=(0, 1))),\n",
              "                ('clf',\n",
              "                 LogisticRegression(C=1.0, data_norm=54.9156786783691,\n",
              "                                    delta=0.0, epsilon=1.0, fit_intercept=True,\n",
              "                                    max_iter=100, n_jobs=None, tol=0.0001,\n",
              "                                    verbose=0, warm_start=False))],\n",
              "         verbose=False)"
            ]
          },
          "metadata": {
            "tags": []
          },
          "execution_count": 33
        }
      ]
    },
    {
      "cell_type": "code",
      "metadata": {
        "id": "yyUtEbgcZKws",
        "outputId": "8dfcc985-7480-4a77-b16d-037bc1960e7e",
        "colab": {
          "base_uri": "https://localhost:8080/",
          "height": 150
        }
      },
      "source": [
        "dp_lr = Pipeline([\n",
        "    ('scaler', MinMaxScaler()),\n",
        "    ('clf', dp.LogisticRegression(epsilon=float(\"inf\"), data_norm=2))\n",
        "])\n",
        "\n",
        "dp_lr.fit(X_train, y_train)"
      ],
      "execution_count": null,
      "outputs": [
        {
          "output_type": "execute_result",
          "data": {
            "text/plain": [
              "Pipeline(memory=None,\n",
              "         steps=[('scaler', MinMaxScaler(copy=True, feature_range=(0, 1))),\n",
              "                ('clf',\n",
              "                 LogisticRegression(C=1.0, data_norm=2, delta=0.0, epsilon=inf,\n",
              "                                    fit_intercept=True, max_iter=100,\n",
              "                                    n_jobs=None, tol=0.0001, verbose=0,\n",
              "                                    warm_start=False))],\n",
              "         verbose=False)"
            ]
          },
          "metadata": {
            "tags": []
          },
          "execution_count": 35
        }
      ]
    },
    {
      "cell_type": "code",
      "metadata": {
        "id": "sFc7rravZKwz",
        "outputId": "80b38085-522e-4065-c2fd-94e0fac954eb",
        "colab": {
          "base_uri": "https://localhost:8080/",
          "height": 33
        }
      },
      "source": [
        "print(\"Agreement between non-private and differentially private (epsilon=inf) classifiers: %.2f%%\" %  \n",
        "      (accuracy_score(lr.predict(X_test), dp_lr.predict(X_test)) * 100))"
      ],
      "execution_count": null,
      "outputs": [
        {
          "output_type": "stream",
          "text": [
            "Agreement between non-private and differentially private (epsilon=inf) classifiers: 74.84%\n"
          ],
          "name": "stdout"
        }
      ]
    },
    {
      "cell_type": "code",
      "metadata": {
        "id": "fj3jd4xvZKw6"
      },
      "source": [
        "epsilons = np.logspace(-2, 2, 11)\n",
        "deltas = np.linspace(0,1,11)\n",
        "#bounds = [(4.3, 7.9), (2.0, 4.4), (1.1, 6.9), (0.1, 2.5)]\n",
        "accuracy_df_log = list()\n",
        "epsilons_df_log= list()\n",
        "delta_df_log = list()\n",
        "\n",
        "for epsilon in epsilons:\n",
        "    for delta in deltas:\n",
        "        dp_lr.set_params(clf__epsilon=epsilon, clf__delta=delta).fit(X_train, y_train)\n",
        "    \n",
        "        accuracy_df_log.append(accuracy_score(y_test, dp_lr.predict(X_test)))\n",
        "        epsilons_df_log.append(round(epsilon, 2))\n",
        "        delta_df_log.append(round(delta, 2))\n",
        "\n",
        "#plt.semilogx(epsilons, accuracy)\n",
        "#plt.title(\"Differentially private Naive Bayes accuracy\")\n",
        "#plt.xlabel(\"epsilon\")\n",
        "#plt.ylabel(\"Accuracy\")\n",
        "#plt.show()"
      ],
      "execution_count": null,
      "outputs": []
    },
    {
      "cell_type": "code",
      "metadata": {
        "id": "7tP4S2uMZKxH",
        "outputId": "88a762f9-ee37-4f34-f821-ff0f8db564c5",
        "colab": {
          "base_uri": "https://localhost:8080/",
          "height": 517
        }
      },
      "source": [
        "log_df = pd.DataFrame(data=np.column_stack([accuracy_df_log, epsilons_df_log, delta_df_log]), columns=['accuracy', 'epsilon', 'delta'])\n",
        "log_df = log_df.pivot('epsilon', 'delta', 'accuracy')\n",
        "ax = sns.heatmap(log_df, cbar_kws={'label': 'accuracy'})"
      ],
      "execution_count": null,
      "outputs": [
        {
          "output_type": "display_data",
          "data": {
            "image/png": "[encoded data removed]",
            "text/plain": [
              "<Figure size 842.4x595.44 with 2 Axes>"
            ]
          },
          "metadata": {
            "tags": []
          }
        }
      ]
    },
    {
      "cell_type": "code",
      "metadata": {
        "id": "vFNMXQVVZKxV"
      },
      "source": [
        ""
      ],
      "execution_count": null,
      "outputs": []
    }
  ]
}
